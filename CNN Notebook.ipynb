{
 "cells": [
  {
   "cell_type": "code",
   "execution_count": 1,
   "metadata": {
    "colab": {
     "base_uri": "https://localhost:8080/"
    },
    "id": "r-FyWkBBnD6x",
    "outputId": "6a0b8b99-9cc3-4830-f8c9-bea06a7b6561"
   },
   "outputs": [
    {
     "name": "stdout",
     "output_type": "stream",
     "text": [
      "\u001b[?25l\r",
      "\u001b[K     |▌                               | 10 kB 31.9 MB/s eta 0:00:01\r",
      "\u001b[K     |█                               | 20 kB 38.6 MB/s eta 0:00:01\r",
      "\u001b[K     |█▍                              | 30 kB 36.1 MB/s eta 0:00:01\r",
      "\u001b[K     |█▉                              | 40 kB 26.2 MB/s eta 0:00:01\r",
      "\u001b[K     |██▎                             | 51 kB 28.8 MB/s eta 0:00:01\r",
      "\u001b[K     |██▊                             | 61 kB 32.4 MB/s eta 0:00:01\r",
      "\u001b[K     |███▏                            | 71 kB 23.7 MB/s eta 0:00:01\r",
      "\u001b[K     |███▋                            | 81 kB 25.0 MB/s eta 0:00:01\r",
      "\u001b[K     |████                            | 92 kB 27.0 MB/s eta 0:00:01\r",
      "\u001b[K     |████▌                           | 102 kB 28.5 MB/s eta 0:00:01\r",
      "\u001b[K     |█████                           | 112 kB 28.5 MB/s eta 0:00:01\r",
      "\u001b[K     |█████▌                          | 122 kB 28.5 MB/s eta 0:00:01\r",
      "\u001b[K     |██████                          | 133 kB 28.5 MB/s eta 0:00:01\r",
      "\u001b[K     |██████▍                         | 143 kB 28.5 MB/s eta 0:00:01\r",
      "\u001b[K     |██████▉                         | 153 kB 28.5 MB/s eta 0:00:01\r",
      "\u001b[K     |███████▎                        | 163 kB 28.5 MB/s eta 0:00:01\r",
      "\u001b[K     |███████▊                        | 174 kB 28.5 MB/s eta 0:00:01\r",
      "\u001b[K     |████████▏                       | 184 kB 28.5 MB/s eta 0:00:01\r",
      "\u001b[K     |████████▋                       | 194 kB 28.5 MB/s eta 0:00:01\r",
      "\u001b[K     |█████████                       | 204 kB 28.5 MB/s eta 0:00:01\r",
      "\u001b[K     |█████████▋                      | 215 kB 28.5 MB/s eta 0:00:01\r",
      "\u001b[K     |██████████                      | 225 kB 28.5 MB/s eta 0:00:01\r",
      "\u001b[K     |██████████▌                     | 235 kB 28.5 MB/s eta 0:00:01\r",
      "\u001b[K     |███████████                     | 245 kB 28.5 MB/s eta 0:00:01\r",
      "\u001b[K     |███████████▍                    | 256 kB 28.5 MB/s eta 0:00:01\r",
      "\u001b[K     |███████████▉                    | 266 kB 28.5 MB/s eta 0:00:01\r",
      "\u001b[K     |████████████▎                   | 276 kB 28.5 MB/s eta 0:00:01\r",
      "\u001b[K     |████████████▊                   | 286 kB 28.5 MB/s eta 0:00:01\r",
      "\u001b[K     |█████████████▏                  | 296 kB 28.5 MB/s eta 0:00:01\r",
      "\u001b[K     |█████████████▋                  | 307 kB 28.5 MB/s eta 0:00:01\r",
      "\u001b[K     |██████████████                  | 317 kB 28.5 MB/s eta 0:00:01\r",
      "\u001b[K     |██████████████▋                 | 327 kB 28.5 MB/s eta 0:00:01\r",
      "\u001b[K     |███████████████                 | 337 kB 28.5 MB/s eta 0:00:01\r",
      "\u001b[K     |███████████████▌                | 348 kB 28.5 MB/s eta 0:00:01\r",
      "\u001b[K     |████████████████                | 358 kB 28.5 MB/s eta 0:00:01\r",
      "\u001b[K     |████████████████▍               | 368 kB 28.5 MB/s eta 0:00:01\r",
      "\u001b[K     |████████████████▉               | 378 kB 28.5 MB/s eta 0:00:01\r",
      "\u001b[K     |█████████████████▎              | 389 kB 28.5 MB/s eta 0:00:01\r",
      "\u001b[K     |█████████████████▊              | 399 kB 28.5 MB/s eta 0:00:01\r",
      "\u001b[K     |██████████████████▏             | 409 kB 28.5 MB/s eta 0:00:01\r",
      "\u001b[K     |██████████████████▋             | 419 kB 28.5 MB/s eta 0:00:01\r",
      "\u001b[K     |███████████████████▏            | 430 kB 28.5 MB/s eta 0:00:01\r",
      "\u001b[K     |███████████████████▋            | 440 kB 28.5 MB/s eta 0:00:01\r",
      "\u001b[K     |████████████████████            | 450 kB 28.5 MB/s eta 0:00:01\r",
      "\u001b[K     |████████████████████▌           | 460 kB 28.5 MB/s eta 0:00:01\r",
      "\u001b[K     |█████████████████████           | 471 kB 28.5 MB/s eta 0:00:01\r",
      "\u001b[K     |█████████████████████▍          | 481 kB 28.5 MB/s eta 0:00:01\r",
      "\u001b[K     |█████████████████████▉          | 491 kB 28.5 MB/s eta 0:00:01\r",
      "\u001b[K     |██████████████████████▎         | 501 kB 28.5 MB/s eta 0:00:01\r",
      "\u001b[K     |██████████████████████▊         | 512 kB 28.5 MB/s eta 0:00:01\r",
      "\u001b[K     |███████████████████████▏        | 522 kB 28.5 MB/s eta 0:00:01\r",
      "\u001b[K     |███████████████████████▋        | 532 kB 28.5 MB/s eta 0:00:01\r",
      "\u001b[K     |████████████████████████▏       | 542 kB 28.5 MB/s eta 0:00:01\r",
      "\u001b[K     |████████████████████████▋       | 552 kB 28.5 MB/s eta 0:00:01\r",
      "\u001b[K     |█████████████████████████       | 563 kB 28.5 MB/s eta 0:00:01\r",
      "\u001b[K     |█████████████████████████▌      | 573 kB 28.5 MB/s eta 0:00:01\r",
      "\u001b[K     |██████████████████████████      | 583 kB 28.5 MB/s eta 0:00:01\r",
      "\u001b[K     |██████████████████████████▍     | 593 kB 28.5 MB/s eta 0:00:01\r",
      "\u001b[K     |██████████████████████████▉     | 604 kB 28.5 MB/s eta 0:00:01\r",
      "\u001b[K     |███████████████████████████▎    | 614 kB 28.5 MB/s eta 0:00:01\r",
      "\u001b[K     |███████████████████████████▊    | 624 kB 28.5 MB/s eta 0:00:01\r",
      "\u001b[K     |████████████████████████████▏   | 634 kB 28.5 MB/s eta 0:00:01\r",
      "\u001b[K     |████████████████████████████▊   | 645 kB 28.5 MB/s eta 0:00:01\r",
      "\u001b[K     |█████████████████████████████▏  | 655 kB 28.5 MB/s eta 0:00:01\r",
      "\u001b[K     |█████████████████████████████▋  | 665 kB 28.5 MB/s eta 0:00:01\r",
      "\u001b[K     |██████████████████████████████  | 675 kB 28.5 MB/s eta 0:00:01\r",
      "\u001b[K     |██████████████████████████████▌ | 686 kB 28.5 MB/s eta 0:00:01\r",
      "\u001b[K     |███████████████████████████████ | 696 kB 28.5 MB/s eta 0:00:01\r",
      "\u001b[K     |███████████████████████████████▍| 706 kB 28.5 MB/s eta 0:00:01\r",
      "\u001b[K     |███████████████████████████████▉| 716 kB 28.5 MB/s eta 0:00:01\r",
      "\u001b[K     |████████████████████████████████| 720 kB 28.5 MB/s \n",
      "\u001b[K     |████████████████████████████████| 189 kB 64.2 MB/s \n",
      "\u001b[K     |████████████████████████████████| 1.2 MB 51.9 MB/s \n",
      "\u001b[K     |████████████████████████████████| 48 kB 6.8 MB/s \n",
      "\u001b[K     |████████████████████████████████| 55 kB 5.1 MB/s \n",
      "\u001b[K     |████████████████████████████████| 51 kB 437 kB/s \n",
      "\u001b[K     |████████████████████████████████| 558 kB 65.9 MB/s \n",
      "\u001b[K     |████████████████████████████████| 130 kB 67.6 MB/s \n",
      "\u001b[?25hMounted at /content/gdrive\n"
     ]
    }
   ],
   "source": [
    "!pip install -Uqq fastbook\n",
    "\n",
    "import fastbook\n",
    "fastbook.setup_book()"
   ]
  },
  {
   "cell_type": "code",
   "execution_count": 2,
   "metadata": {
    "colab": {
     "base_uri": "https://localhost:8080/"
    },
    "id": "f_6qc3JOh8wo",
    "outputId": "ca3a6153-d137-4ca4-ddd3-e0a0134e12bf"
   },
   "outputs": [
    {
     "name": "stdout",
     "output_type": "stream",
     "text": [
      "Drive already mounted at /content/gdrive; to attempt to forcibly remount, call drive.mount(\"/content/gdrive\", force_remount=True).\n"
     ]
    }
   ],
   "source": [
    "from google.colab import drive\n",
    "drive.mount('/content/gdrive')"
   ]
  },
  {
   "cell_type": "code",
   "execution_count": 3,
   "metadata": {
    "id": "WmwxZjDaDiQg"
   },
   "outputs": [],
   "source": [
    "\n",
    "import fastai; fastai.__version__\n",
    "from pathlib import Path\n",
    "from PIL import Image\n",
    "from pathlib import Path\n",
    "from fastai.vision.all import *\n",
    "import torch\n",
    "import os\n"
   ]
  },
  {
   "cell_type": "code",
   "execution_count": 4,
   "metadata": {
    "colab": {
     "base_uri": "https://localhost:8080/"
    },
    "id": "cBjAlsX2nNix",
    "outputId": "4d9b3682-d869-40f7-d2cb-67ab8af2b16f"
   },
   "outputs": [
    {
     "name": "stdout",
     "output_type": "stream",
     "text": [
      "2575 665\n"
     ]
    }
   ],
   "source": [
    "n = len([i for i in os.listdir('/content/gdrive/MyDrive/data/new_mel_spec/normal')])\n",
    "a = len([i for i in os.listdir('/content/gdrive/MyDrive/data/new_mel_spec/abnormal')])\n",
    "print(n,a)\n",
    "w_a = (a + n) / (2.0 * a)\n",
    "w_n = (a + n) / (2.0 * n)\n",
    "class_weights=torch.FloatTensor([w_a,w_n]).cuda()\n",
    "\n",
    "fields = DataBlock(blocks=(ImageBlock, CategoryBlock),get_items=get_image_files,\n",
    "   get_y=parent_label,splitter=RandomSplitter(valid_pct=0.2, seed=42))\n",
    "f1=F1Score(pos_label=0)\n",
    "pr=Precision(pos_label=0)\n",
    "re=Recall(pos_label=0)\n",
    "loss_func_new = CrossEntropyLossFlat(weight=class_weights)\n"
   ]
  },
  {
   "cell_type": "code",
   "execution_count": 5,
   "metadata": {
    "id": "LPpkCnELJOqX"
   },
   "outputs": [],
   "source": [
    "path_spec = Path('/content/gdrive/MyDrive/data/new')\n",
    "path_mel_spec = Path('/content/gdrive/MyDrive/data/new_mel_spec')"
   ]
  },
  {
   "cell_type": "code",
   "execution_count": 8,
   "metadata": {
    "id": "xEozhDUyPk7h"
   },
   "outputs": [],
   "source": [
    "dls_spec = fields.dataloaders(path_spec, bs=4)\n",
    "dls_mel_spec = fields.dataloaders(path_mel_spec, bs=4)"
   ]
  },
  {
   "cell_type": "code",
   "execution_count": 9,
   "metadata": {
    "id": "Gyywu4Wsn827"
   },
   "outputs": [],
   "source": [
    "learn_spec = cnn_learner(dls_spec, vgg16_bn, metrics=[error_rate,f1,pr,re], loss_func=loss_func_new)\n",
    "#learn_spec = cnn_learner(dls_spec, resnet18, metrics=[error_rate,f1,pr,re])\n"
   ]
  },
  {
   "cell_type": "code",
   "execution_count": 10,
   "metadata": {
    "colab": {
     "base_uri": "https://localhost:8080/",
     "height": 301
    },
    "id": "nWi9rqBWGXaF",
    "outputId": "d11a7350-83e1-4715-ef99-4b2231a69a6b"
   },
   "outputs": [
    {
     "data": {
      "text/html": [
       "\n",
       "<style>\n",
       "    /* Turns off some styling */\n",
       "    progress {\n",
       "        /* gets rid of default border in Firefox and Opera. */\n",
       "        border: none;\n",
       "        /* Needs to be in here for Safari polyfill so background images work as expected. */\n",
       "        background-size: auto;\n",
       "    }\n",
       "    .progress-bar-interrupted, .progress-bar-interrupted::-webkit-progress-bar {\n",
       "        background: #F44336;\n",
       "    }\n",
       "</style>\n"
      ],
      "text/plain": [
       "<IPython.core.display.HTML object>"
      ]
     },
     "metadata": {},
     "output_type": "display_data"
    },
    {
     "data": {
      "text/html": [],
      "text/plain": [
       "<IPython.core.display.HTML object>"
      ]
     },
     "metadata": {},
     "output_type": "display_data"
    },
    {
     "data": {
      "text/plain": [
       "SuggestedLRs(valley=0.0020892962347716093)"
      ]
     },
     "execution_count": 10,
     "metadata": {},
     "output_type": "execute_result"
    },
    {
     "data": {
      "image/png": "[encoded data removed]",
      "text/plain": [
       "<Figure size 432x288 with 1 Axes>"
      ]
     },
     "metadata": {
      "needs_background": "light"
     },
     "output_type": "display_data"
    }
   ],
   "source": [
    "learn_spec.lr_find()"
   ]
  },
  {
   "cell_type": "code",
   "execution_count": 11,
   "metadata": {
    "colab": {
     "base_uri": "https://localhost:8080/",
     "height": 684
    },
    "id": "6jqfiXBCgFbi",
    "outputId": "8efafb89-234c-404d-b145-e6f5c22f3256"
   },
   "outputs": [
    {
     "data": {
      "text/html": [
       "\n",
       "<style>\n",
       "    /* Turns off some styling */\n",
       "    progress {\n",
       "        /* gets rid of default border in Firefox and Opera. */\n",
       "        border: none;\n",
       "        /* Needs to be in here for Safari polyfill so background images work as expected. */\n",
       "        background-size: auto;\n",
       "    }\n",
       "    .progress-bar-interrupted, .progress-bar-interrupted::-webkit-progress-bar {\n",
       "        background: #F44336;\n",
       "    }\n",
       "</style>\n"
      ],
      "text/plain": [
       "<IPython.core.display.HTML object>"
      ]
     },
     "metadata": {},
     "output_type": "display_data"
    },
    {
     "data": {
      "text/html": [
       "\n",
       "    <div>\n",
       "      <progress value='7' class='' max='9' style='width:300px; height:20px; vertical-align: middle;'></progress>\n",
       "      77.78% [7/9 2:09:10<36:54]\n",
       "    </div>\n",
       "    \n",
       "<table border=\"1\" class=\"dataframe\">\n",
       "  <thead>\n",
       "    <tr style=\"text-align: left;\">\n",
       "      <th>epoch</th>\n",
       "      <th>train_loss</th>\n",
       "      <th>valid_loss</th>\n",
       "      <th>error_rate</th>\n",
       "      <th>f1_score</th>\n",
       "      <th>precision_score</th>\n",
       "      <th>recall_score</th>\n",
       "      <th>time</th>\n",
       "    </tr>\n",
       "  </thead>\n",
       "  <tbody>\n",
       "    <tr>\n",
       "      <td>0</td>\n",
       "      <td>0.841298</td>\n",
       "      <td>5.878136</td>\n",
       "      <td>0.800926</td>\n",
       "      <td>0.332046</td>\n",
       "      <td>0.199074</td>\n",
       "      <td>1.000000</td>\n",
       "      <td>18:41</td>\n",
       "    </tr>\n",
       "    <tr>\n",
       "      <td>1</td>\n",
       "      <td>1.119708</td>\n",
       "      <td>1.802881</td>\n",
       "      <td>0.186728</td>\n",
       "      <td>0.165517</td>\n",
       "      <td>0.750000</td>\n",
       "      <td>0.093023</td>\n",
       "      <td>18:18</td>\n",
       "    </tr>\n",
       "    <tr>\n",
       "      <td>2</td>\n",
       "      <td>0.970609</td>\n",
       "      <td>3.890755</td>\n",
       "      <td>0.199074</td>\n",
       "      <td>0.000000</td>\n",
       "      <td>0.000000</td>\n",
       "      <td>0.000000</td>\n",
       "      <td>18:17</td>\n",
       "    </tr>\n",
       "    <tr>\n",
       "      <td>3</td>\n",
       "      <td>0.823947</td>\n",
       "      <td>0.614082</td>\n",
       "      <td>0.233025</td>\n",
       "      <td>0.462633</td>\n",
       "      <td>0.427632</td>\n",
       "      <td>0.503876</td>\n",
       "      <td>18:15</td>\n",
       "    </tr>\n",
       "    <tr>\n",
       "      <td>4</td>\n",
       "      <td>0.908530</td>\n",
       "      <td>2.055618</td>\n",
       "      <td>0.762346</td>\n",
       "      <td>0.343085</td>\n",
       "      <td>0.207063</td>\n",
       "      <td>1.000000</td>\n",
       "      <td>18:25</td>\n",
       "    </tr>\n",
       "    <tr>\n",
       "      <td>5</td>\n",
       "      <td>0.469072</td>\n",
       "      <td>0.411954</td>\n",
       "      <td>0.134259</td>\n",
       "      <td>0.669202</td>\n",
       "      <td>0.656716</td>\n",
       "      <td>0.682171</td>\n",
       "      <td>18:36</td>\n",
       "    </tr>\n",
       "    <tr>\n",
       "      <td>6</td>\n",
       "      <td>0.438510</td>\n",
       "      <td>0.465973</td>\n",
       "      <td>0.121914</td>\n",
       "      <td>0.672199</td>\n",
       "      <td>0.723214</td>\n",
       "      <td>0.627907</td>\n",
       "      <td>18:35</td>\n",
       "    </tr>\n",
       "  </tbody>\n",
       "</table><p>\n",
       "\n",
       "    <div>\n",
       "      <progress value='522' class='' max='648' style='width:300px; height:20px; vertical-align: middle;'></progress>\n",
       "      80.56% [522/648 13:47<03:19 0.4641]\n",
       "    </div>\n",
       "    "
      ],
      "text/plain": [
       "<IPython.core.display.HTML object>"
      ]
     },
     "metadata": {},
     "output_type": "display_data"
    },
    {
     "metadata": {
      "tags": null
     },
     "name": "stderr",
     "output_type": "stream",
     "text": [
      "/usr/local/lib/python3.7/dist-packages/sklearn/metrics/_classification.py:1318: UndefinedMetricWarning: Precision is ill-defined and being set to 0.0 due to no predicted samples. Use `zero_division` parameter to control this behavior.\n",
      "  _warn_prf(average, modifier, msg_start, len(result))\n"
     ]
    },
    {
     "data": {
      "text/html": [
       "<table border=\"1\" class=\"dataframe\">\n",
       "  <thead>\n",
       "    <tr style=\"text-align: left;\">\n",
       "      <th>epoch</th>\n",
       "      <th>train_loss</th>\n",
       "      <th>valid_loss</th>\n",
       "      <th>error_rate</th>\n",
       "      <th>f1_score</th>\n",
       "      <th>precision_score</th>\n",
       "      <th>recall_score</th>\n",
       "      <th>time</th>\n",
       "    </tr>\n",
       "  </thead>\n",
       "  <tbody>\n",
       "    <tr>\n",
       "      <td>0</td>\n",
       "      <td>0.841298</td>\n",
       "      <td>5.878136</td>\n",
       "      <td>0.800926</td>\n",
       "      <td>0.332046</td>\n",
       "      <td>0.199074</td>\n",
       "      <td>1.000000</td>\n",
       "      <td>18:41</td>\n",
       "    </tr>\n",
       "    <tr>\n",
       "      <td>1</td>\n",
       "      <td>1.119708</td>\n",
       "      <td>1.802881</td>\n",
       "      <td>0.186728</td>\n",
       "      <td>0.165517</td>\n",
       "      <td>0.750000</td>\n",
       "      <td>0.093023</td>\n",
       "      <td>18:18</td>\n",
       "    </tr>\n",
       "    <tr>\n",
       "      <td>2</td>\n",
       "      <td>0.970609</td>\n",
       "      <td>3.890755</td>\n",
       "      <td>0.199074</td>\n",
       "      <td>0.000000</td>\n",
       "      <td>0.000000</td>\n",
       "      <td>0.000000</td>\n",
       "      <td>18:17</td>\n",
       "    </tr>\n",
       "    <tr>\n",
       "      <td>3</td>\n",
       "      <td>0.823947</td>\n",
       "      <td>0.614082</td>\n",
       "      <td>0.233025</td>\n",
       "      <td>0.462633</td>\n",
       "      <td>0.427632</td>\n",
       "      <td>0.503876</td>\n",
       "      <td>18:15</td>\n",
       "    </tr>\n",
       "    <tr>\n",
       "      <td>4</td>\n",
       "      <td>0.908530</td>\n",
       "      <td>2.055618</td>\n",
       "      <td>0.762346</td>\n",
       "      <td>0.343085</td>\n",
       "      <td>0.207063</td>\n",
       "      <td>1.000000</td>\n",
       "      <td>18:25</td>\n",
       "    </tr>\n",
       "    <tr>\n",
       "      <td>5</td>\n",
       "      <td>0.469072</td>\n",
       "      <td>0.411954</td>\n",
       "      <td>0.134259</td>\n",
       "      <td>0.669202</td>\n",
       "      <td>0.656716</td>\n",
       "      <td>0.682171</td>\n",
       "      <td>18:36</td>\n",
       "    </tr>\n",
       "    <tr>\n",
       "      <td>6</td>\n",
       "      <td>0.438510</td>\n",
       "      <td>0.465973</td>\n",
       "      <td>0.121914</td>\n",
       "      <td>0.672199</td>\n",
       "      <td>0.723214</td>\n",
       "      <td>0.627907</td>\n",
       "      <td>18:35</td>\n",
       "    </tr>\n",
       "    <tr>\n",
       "      <td>7</td>\n",
       "      <td>0.504399</td>\n",
       "      <td>0.369207</td>\n",
       "      <td>0.120370</td>\n",
       "      <td>0.708955</td>\n",
       "      <td>0.683453</td>\n",
       "      <td>0.736434</td>\n",
       "      <td>18:36</td>\n",
       "    </tr>\n",
       "    <tr>\n",
       "      <td>8</td>\n",
       "      <td>0.423891</td>\n",
       "      <td>0.350092</td>\n",
       "      <td>0.128086</td>\n",
       "      <td>0.706714</td>\n",
       "      <td>0.649351</td>\n",
       "      <td>0.775194</td>\n",
       "      <td>18:36</td>\n",
       "    </tr>\n",
       "  </tbody>\n",
       "</table>"
      ],
      "text/plain": [
       "<IPython.core.display.HTML object>"
      ]
     },
     "metadata": {},
     "output_type": "display_data"
    }
   ],
   "source": [
    "learn_spec.freeze()\n",
    "learn_spec.fit_one_cycle(9, 5e-3)"
   ]
  },
  {
   "cell_type": "code",
   "execution_count": 12,
   "metadata": {
    "colab": {
     "base_uri": "https://localhost:8080/",
     "height": 301
    },
    "id": "oGXNdO3aiKjs",
    "outputId": "a4f0a0fd-f8e3-41e9-e4a0-96d4101200c4"
   },
   "outputs": [
    {
     "data": {
      "text/html": [
       "\n",
       "<style>\n",
       "    /* Turns off some styling */\n",
       "    progress {\n",
       "        /* gets rid of default border in Firefox and Opera. */\n",
       "        border: none;\n",
       "        /* Needs to be in here for Safari polyfill so background images work as expected. */\n",
       "        background-size: auto;\n",
       "    }\n",
       "    .progress-bar-interrupted, .progress-bar-interrupted::-webkit-progress-bar {\n",
       "        background: #F44336;\n",
       "    }\n",
       "</style>\n"
      ],
      "text/plain": [
       "<IPython.core.display.HTML object>"
      ]
     },
     "metadata": {},
     "output_type": "display_data"
    },
    {
     "data": {
      "text/html": [],
      "text/plain": [
       "<IPython.core.display.HTML object>"
      ]
     },
     "metadata": {},
     "output_type": "display_data"
    },
    {
     "data": {
      "text/plain": [
       "SuggestedLRs(valley=0.0003311311302240938)"
      ]
     },
     "execution_count": 12,
     "metadata": {},
     "output_type": "execute_result"
    },
    {
     "data": {
      "image/png": "[encoded data removed]",
      "text/plain": [
       "<Figure size 432x288 with 1 Axes>"
      ]
     },
     "metadata": {
      "needs_background": "light"
     },
     "output_type": "display_data"
    }
   ],
   "source": [
    "learn_spec.lr_find()"
   ]
  },
  {
   "cell_type": "code",
   "execution_count": null,
   "metadata": {
    "id": "pz0-SC1poQQd"
   },
   "outputs": [],
   "source": [
    "learn_spec.unfreeze()\n",
    "learn_spec.fit_one_cycle(8, lr_max=slice(9e-5,3e-4))"
   ]
  },
  {
   "cell_type": "code",
   "execution_count": null,
   "metadata": {
    "colab": {
     "base_uri": "https://localhost:8080/",
     "height": 17
    },
    "id": "3et5pUC6rBYz",
    "outputId": "0356c828-6048-4518-8424-4d6514d83ec0"
   },
   "outputs": [
    {
     "data": {
      "text/html": [
       "\n",
       "<style>\n",
       "    /* Turns off some styling */\n",
       "    progress {\n",
       "        /* gets rid of default border in Firefox and Opera. */\n",
       "        border: none;\n",
       "        /* Needs to be in here for Safari polyfill so background images work as expected. */\n",
       "        background-size: auto;\n",
       "    }\n",
       "    .progress-bar-interrupted, .progress-bar-interrupted::-webkit-progress-bar {\n",
       "        background: #F44336;\n",
       "    }\n",
       "</style>\n"
      ],
      "text/plain": [
       "<IPython.core.display.HTML object>"
      ]
     },
     "metadata": {},
     "output_type": "display_data"
    },
    {
     "data": {
      "text/html": [],
      "text/plain": [
       "<IPython.core.display.HTML object>"
      ]
     },
     "metadata": {},
     "output_type": "display_data"
    }
   ],
   "source": [
    "interpret_spec=ClassificationInterpretation.from_learner(learn_spec)"
   ]
  },
  {
   "cell_type": "code",
   "execution_count": null,
   "metadata": {
    "colab": {
     "base_uri": "https://localhost:8080/",
     "height": 311
    },
    "id": "YqvpSFIzrTnV",
    "outputId": "3c7daf0c-b595-4223-9328-9555123c0723"
   },
   "outputs": [
    {
     "data": {
      "image/png": "[encoded data removed]",
      "text/plain": [
       "<Figure size 432x288 with 1 Axes>"
      ]
     },
     "metadata": {
      "needs_background": "light"
     },
     "output_type": "display_data"
    }
   ],
   "source": [
    "interpret_spec.plot_confusion_matrix()"
   ]
  },
  {
   "cell_type": "code",
   "execution_count": null,
   "metadata": {
    "id": "RU9bzbcFj3Uw"
   },
   "outputs": [],
   "source": [
    "learn_spec.export(r'/content/gdrive/MyDrive/data/new/model_spec_three.pkl')\n"
   ]
  },
  {
   "cell_type": "code",
   "execution_count": null,
   "metadata": {
    "id": "CX0GQYQ8Q2u_"
   },
   "outputs": [],
   "source": [
    "learner_mel_spec= load_learner(Path(r'/content/gdrive/MyDrive/data/new/model_spec_three.pkl'))\n",
    "learner_mel_spec.dls = dls_mel_spec"
   ]
  },
  {
   "cell_type": "code",
   "execution_count": null,
   "metadata": {
    "colab": {
     "base_uri": "https://localhost:8080/",
     "height": 301
    },
    "id": "DcRbr9mykMV_",
    "outputId": "a7639baa-cac7-4452-d0cc-dcb3db50b699"
   },
   "outputs": [
    {
     "data": {
      "text/html": [
       "\n",
       "<style>\n",
       "    /* Turns off some styling */\n",
       "    progress {\n",
       "        /* gets rid of default border in Firefox and Opera. */\n",
       "        border: none;\n",
       "        /* Needs to be in here for Safari polyfill so background images work as expected. */\n",
       "        background-size: auto;\n",
       "    }\n",
       "    .progress-bar-interrupted, .progress-bar-interrupted::-webkit-progress-bar {\n",
       "        background: #F44336;\n",
       "    }\n",
       "</style>\n"
      ],
      "text/plain": [
       "<IPython.core.display.HTML object>"
      ]
     },
     "metadata": {},
     "output_type": "display_data"
    },
    {
     "data": {
      "text/html": [],
      "text/plain": [
       "<IPython.core.display.HTML object>"
      ]
     },
     "metadata": {},
     "output_type": "display_data"
    },
    {
     "data": {
      "text/plain": [
       "SuggestedLRs(valley=0.0003311311302240938)"
      ]
     },
     "execution_count": 17,
     "metadata": {},
     "output_type": "execute_result"
    },
    {
     "data": {
      "image/png": "[encoded data removed]",
      "text/plain": [
       "<Figure size 432x288 with 1 Axes>"
      ]
     },
     "metadata": {
      "needs_background": "light"
     },
     "output_type": "display_data"
    }
   ],
   "source": [
    "learner_mel_spec.lr_find()"
   ]
  },
  {
   "cell_type": "code",
   "execution_count": null,
   "metadata": {
    "colab": {
     "base_uri": "https://localhost:8080/",
     "height": 206
    },
    "id": "r3n2g1d3pJB3",
    "outputId": "ee0c12ad-62ed-4869-db25-42e252bc5ade"
   },
   "outputs": [
    {
     "data": {
      "text/html": [
       "\n",
       "<style>\n",
       "    /* Turns off some styling */\n",
       "    progress {\n",
       "        /* gets rid of default border in Firefox and Opera. */\n",
       "        border: none;\n",
       "        /* Needs to be in here for Safari polyfill so background images work as expected. */\n",
       "        background-size: auto;\n",
       "    }\n",
       "    .progress-bar-interrupted, .progress-bar-interrupted::-webkit-progress-bar {\n",
       "        background: #F44336;\n",
       "    }\n",
       "</style>\n"
      ],
      "text/plain": [
       "<IPython.core.display.HTML object>"
      ]
     },
     "metadata": {},
     "output_type": "display_data"
    },
    {
     "data": {
      "text/html": [
       "<table border=\"1\" class=\"dataframe\">\n",
       "  <thead>\n",
       "    <tr style=\"text-align: left;\">\n",
       "      <th>epoch</th>\n",
       "      <th>train_loss</th>\n",
       "      <th>valid_loss</th>\n",
       "      <th>error_rate</th>\n",
       "      <th>f1_score</th>\n",
       "      <th>precision_score</th>\n",
       "      <th>recall_score</th>\n",
       "      <th>time</th>\n",
       "    </tr>\n",
       "  </thead>\n",
       "  <tbody>\n",
       "    <tr>\n",
       "      <td>0</td>\n",
       "      <td>0.220379</td>\n",
       "      <td>0.569691</td>\n",
       "      <td>0.265432</td>\n",
       "      <td>0.558974</td>\n",
       "      <td>0.417625</td>\n",
       "      <td>0.844961</td>\n",
       "      <td>00:36</td>\n",
       "    </tr>\n",
       "    <tr>\n",
       "      <td>1</td>\n",
       "      <td>0.351729</td>\n",
       "      <td>0.331324</td>\n",
       "      <td>0.171296</td>\n",
       "      <td>0.672566</td>\n",
       "      <td>0.542857</td>\n",
       "      <td>0.883721</td>\n",
       "      <td>00:36</td>\n",
       "    </tr>\n",
       "    <tr>\n",
       "      <td>2</td>\n",
       "      <td>0.252033</td>\n",
       "      <td>0.354015</td>\n",
       "      <td>0.192901</td>\n",
       "      <td>0.655647</td>\n",
       "      <td>0.508547</td>\n",
       "      <td>0.922481</td>\n",
       "      <td>00:36</td>\n",
       "    </tr>\n",
       "    <tr>\n",
       "      <td>3</td>\n",
       "      <td>0.203920</td>\n",
       "      <td>0.295658</td>\n",
       "      <td>0.120370</td>\n",
       "      <td>0.746753</td>\n",
       "      <td>0.642458</td>\n",
       "      <td>0.891473</td>\n",
       "      <td>00:36</td>\n",
       "    </tr>\n",
       "    <tr>\n",
       "      <td>4</td>\n",
       "      <td>0.141210</td>\n",
       "      <td>0.318011</td>\n",
       "      <td>0.103395</td>\n",
       "      <td>0.763251</td>\n",
       "      <td>0.701299</td>\n",
       "      <td>0.837209</td>\n",
       "      <td>00:36</td>\n",
       "    </tr>\n",
       "  </tbody>\n",
       "</table>"
      ],
      "text/plain": [
       "<IPython.core.display.HTML object>"
      ]
     },
     "metadata": {},
     "output_type": "display_data"
    }
   ],
   "source": [
    "learner_mel_spec.freeze()\n",
    "learner_mel_spec.fit_one_cycle(5, 3e-3)"
   ]
  },
  {
   "cell_type": "code",
   "execution_count": null,
   "metadata": {
    "colab": {
     "base_uri": "https://localhost:8080/",
     "height": 301
    },
    "id": "ofQW8ows3lIO",
    "outputId": "dba5eff4-0a05-4702-c2e2-c610d1e0a67e"
   },
   "outputs": [
    {
     "data": {
      "text/html": [
       "\n",
       "<style>\n",
       "    /* Turns off some styling */\n",
       "    progress {\n",
       "        /* gets rid of default border in Firefox and Opera. */\n",
       "        border: none;\n",
       "        /* Needs to be in here for Safari polyfill so background images work as expected. */\n",
       "        background-size: auto;\n",
       "    }\n",
       "    .progress-bar-interrupted, .progress-bar-interrupted::-webkit-progress-bar {\n",
       "        background: #F44336;\n",
       "    }\n",
       "</style>\n"
      ],
      "text/plain": [
       "<IPython.core.display.HTML object>"
      ]
     },
     "metadata": {},
     "output_type": "display_data"
    },
    {
     "data": {
      "text/html": [],
      "text/plain": [
       "<IPython.core.display.HTML object>"
      ]
     },
     "metadata": {},
     "output_type": "display_data"
    },
    {
     "data": {
      "text/plain": [
       "SuggestedLRs(valley=4.786300905834651e-06)"
      ]
     },
     "execution_count": 20,
     "metadata": {},
     "output_type": "execute_result"
    },
    {
     "data": {
      "image/png": "[encoded data removed]",
      "text/plain": [
       "<Figure size 432x288 with 1 Axes>"
      ]
     },
     "metadata": {
      "needs_background": "light"
     },
     "output_type": "display_data"
    }
   ],
   "source": [
    "learner_mel_spec.lr_find()"
   ]
  },
  {
   "cell_type": "code",
   "execution_count": null,
   "metadata": {
    "colab": {
     "base_uri": "https://localhost:8080/",
     "height": 363
    },
    "id": "4_iaMztatnqu",
    "outputId": "c67461e0-42b6-4f92-eeed-983ffe35a7e2"
   },
   "outputs": [
    {
     "data": {
      "text/html": [
       "\n",
       "<style>\n",
       "    /* Turns off some styling */\n",
       "    progress {\n",
       "        /* gets rid of default border in Firefox and Opera. */\n",
       "        border: none;\n",
       "        /* Needs to be in here for Safari polyfill so background images work as expected. */\n",
       "        background-size: auto;\n",
       "    }\n",
       "    .progress-bar-interrupted, .progress-bar-interrupted::-webkit-progress-bar {\n",
       "        background: #F44336;\n",
       "    }\n",
       "</style>\n"
      ],
      "text/plain": [
       "<IPython.core.display.HTML object>"
      ]
     },
     "metadata": {},
     "output_type": "display_data"
    },
    {
     "data": {
      "text/html": [
       "<table border=\"1\" class=\"dataframe\">\n",
       "  <thead>\n",
       "    <tr style=\"text-align: left;\">\n",
       "      <th>epoch</th>\n",
       "      <th>train_loss</th>\n",
       "      <th>valid_loss</th>\n",
       "      <th>error_rate</th>\n",
       "      <th>f1_score</th>\n",
       "      <th>precision_score</th>\n",
       "      <th>recall_score</th>\n",
       "      <th>time</th>\n",
       "    </tr>\n",
       "  </thead>\n",
       "  <tbody>\n",
       "    <tr>\n",
       "      <td>0</td>\n",
       "      <td>0.121340</td>\n",
       "      <td>0.326961</td>\n",
       "      <td>0.106481</td>\n",
       "      <td>0.750903</td>\n",
       "      <td>0.702703</td>\n",
       "      <td>0.806202</td>\n",
       "      <td>00:46</td>\n",
       "    </tr>\n",
       "    <tr>\n",
       "      <td>1</td>\n",
       "      <td>0.125542</td>\n",
       "      <td>0.314284</td>\n",
       "      <td>0.104938</td>\n",
       "      <td>0.758865</td>\n",
       "      <td>0.699346</td>\n",
       "      <td>0.829457</td>\n",
       "      <td>00:46</td>\n",
       "    </tr>\n",
       "    <tr>\n",
       "      <td>2</td>\n",
       "      <td>0.123943</td>\n",
       "      <td>0.312172</td>\n",
       "      <td>0.108025</td>\n",
       "      <td>0.755245</td>\n",
       "      <td>0.687898</td>\n",
       "      <td>0.837209</td>\n",
       "      <td>00:46</td>\n",
       "    </tr>\n",
       "    <tr>\n",
       "      <td>3</td>\n",
       "      <td>0.104300</td>\n",
       "      <td>0.324974</td>\n",
       "      <td>0.103395</td>\n",
       "      <td>0.758123</td>\n",
       "      <td>0.709459</td>\n",
       "      <td>0.813953</td>\n",
       "      <td>00:46</td>\n",
       "    </tr>\n",
       "    <tr>\n",
       "      <td>4</td>\n",
       "      <td>0.111477</td>\n",
       "      <td>0.313562</td>\n",
       "      <td>0.104938</td>\n",
       "      <td>0.760563</td>\n",
       "      <td>0.696774</td>\n",
       "      <td>0.837209</td>\n",
       "      <td>00:46</td>\n",
       "    </tr>\n",
       "    <tr>\n",
       "      <td>5</td>\n",
       "      <td>0.103116</td>\n",
       "      <td>0.306081</td>\n",
       "      <td>0.106481</td>\n",
       "      <td>0.761246</td>\n",
       "      <td>0.687500</td>\n",
       "      <td>0.852713</td>\n",
       "      <td>00:46</td>\n",
       "    </tr>\n",
       "    <tr>\n",
       "      <td>6</td>\n",
       "      <td>0.096168</td>\n",
       "      <td>0.308748</td>\n",
       "      <td>0.104938</td>\n",
       "      <td>0.762238</td>\n",
       "      <td>0.694268</td>\n",
       "      <td>0.844961</td>\n",
       "      <td>00:46</td>\n",
       "    </tr>\n",
       "    <tr>\n",
       "      <td>7</td>\n",
       "      <td>0.093883</td>\n",
       "      <td>0.310356</td>\n",
       "      <td>0.104938</td>\n",
       "      <td>0.762238</td>\n",
       "      <td>0.694268</td>\n",
       "      <td>0.844961</td>\n",
       "      <td>00:46</td>\n",
       "    </tr>\n",
       "    <tr>\n",
       "      <td>8</td>\n",
       "      <td>0.102175</td>\n",
       "      <td>0.317883</td>\n",
       "      <td>0.103395</td>\n",
       "      <td>0.763251</td>\n",
       "      <td>0.701299</td>\n",
       "      <td>0.837209</td>\n",
       "      <td>00:46</td>\n",
       "    </tr>\n",
       "    <tr>\n",
       "      <td>9</td>\n",
       "      <td>0.096261</td>\n",
       "      <td>0.320716</td>\n",
       "      <td>0.101852</td>\n",
       "      <td>0.764286</td>\n",
       "      <td>0.708609</td>\n",
       "      <td>0.829457</td>\n",
       "      <td>00:46</td>\n",
       "    </tr>\n",
       "  </tbody>\n",
       "</table>"
      ],
      "text/plain": [
       "<IPython.core.display.HTML object>"
      ]
     },
     "metadata": {},
     "output_type": "display_data"
    }
   ],
   "source": [
    "learner_mel_spec.unfreeze()\n",
    "learner_mel_spec.fit_one_cycle(10, lr_max=slice(1e-7,5e-6))"
   ]
  },
  {
   "cell_type": "code",
   "execution_count": null,
   "metadata": {
    "colab": {
     "base_uri": "https://localhost:8080/",
     "height": 301
    },
    "id": "mFKrxkcOxtmH",
    "outputId": "147a6863-502a-40ee-c1e5-6c18ab5a14b0"
   },
   "outputs": [
    {
     "data": {
      "text/html": [
       "\n",
       "<style>\n",
       "    /* Turns off some styling */\n",
       "    progress {\n",
       "        /* gets rid of default border in Firefox and Opera. */\n",
       "        border: none;\n",
       "        /* Needs to be in here for Safari polyfill so background images work as expected. */\n",
       "        background-size: auto;\n",
       "    }\n",
       "    .progress-bar-interrupted, .progress-bar-interrupted::-webkit-progress-bar {\n",
       "        background: #F44336;\n",
       "    }\n",
       "</style>\n"
      ],
      "text/plain": [
       "<IPython.core.display.HTML object>"
      ]
     },
     "metadata": {},
     "output_type": "display_data"
    },
    {
     "data": {
      "text/html": [],
      "text/plain": [
       "<IPython.core.display.HTML object>"
      ]
     },
     "metadata": {},
     "output_type": "display_data"
    },
    {
     "data": {
      "text/plain": [
       "SuggestedLRs(valley=6.30957365501672e-05)"
      ]
     },
     "execution_count": 43,
     "metadata": {},
     "output_type": "execute_result"
    },
    {
     "data": {
      "image/png": "[encoded data removed]",
      "text/plain": [
       "<Figure size 432x288 with 1 Axes>"
      ]
     },
     "metadata": {
      "needs_background": "light"
     },
     "output_type": "display_data"
    }
   ],
   "source": [
    "learner_mel_spec.lr_find()"
   ]
  },
  {
   "cell_type": "code",
   "execution_count": null,
   "metadata": {
    "colab": {
     "base_uri": "https://localhost:8080/",
     "height": 175
    },
    "id": "4T464opCyPiE",
    "outputId": "44eac0ec-ea41-4dc3-a83e-2604699267f1"
   },
   "outputs": [
    {
     "data": {
      "text/html": [
       "\n",
       "<style>\n",
       "    /* Turns off some styling */\n",
       "    progress {\n",
       "        /* gets rid of default border in Firefox and Opera. */\n",
       "        border: none;\n",
       "        /* Needs to be in here for Safari polyfill so background images work as expected. */\n",
       "        background-size: auto;\n",
       "    }\n",
       "    .progress-bar-interrupted, .progress-bar-interrupted::-webkit-progress-bar {\n",
       "        background: #F44336;\n",
       "    }\n",
       "</style>\n"
      ],
      "text/plain": [
       "<IPython.core.display.HTML object>"
      ]
     },
     "metadata": {},
     "output_type": "display_data"
    },
    {
     "data": {
      "text/html": [
       "<table border=\"1\" class=\"dataframe\">\n",
       "  <thead>\n",
       "    <tr style=\"text-align: left;\">\n",
       "      <th>epoch</th>\n",
       "      <th>train_loss</th>\n",
       "      <th>valid_loss</th>\n",
       "      <th>error_rate</th>\n",
       "      <th>f1_score</th>\n",
       "      <th>precision_score</th>\n",
       "      <th>recall_score</th>\n",
       "      <th>time</th>\n",
       "    </tr>\n",
       "  </thead>\n",
       "  <tbody>\n",
       "    <tr>\n",
       "      <td>0</td>\n",
       "      <td>0.275619</td>\n",
       "      <td>0.547696</td>\n",
       "      <td>0.239198</td>\n",
       "      <td>0.573003</td>\n",
       "      <td>0.444444</td>\n",
       "      <td>0.806202</td>\n",
       "      <td>01:18</td>\n",
       "    </tr>\n",
       "    <tr>\n",
       "      <td>1</td>\n",
       "      <td>0.351927</td>\n",
       "      <td>0.382559</td>\n",
       "      <td>0.226852</td>\n",
       "      <td>0.629723</td>\n",
       "      <td>0.466418</td>\n",
       "      <td>0.968992</td>\n",
       "      <td>01:17</td>\n",
       "    </tr>\n",
       "    <tr>\n",
       "      <td>2</td>\n",
       "      <td>0.279529</td>\n",
       "      <td>0.307346</td>\n",
       "      <td>0.123457</td>\n",
       "      <td>0.727891</td>\n",
       "      <td>0.648485</td>\n",
       "      <td>0.829457</td>\n",
       "      <td>01:17</td>\n",
       "    </tr>\n",
       "    <tr>\n",
       "      <td>3</td>\n",
       "      <td>0.183470</td>\n",
       "      <td>0.349260</td>\n",
       "      <td>0.112654</td>\n",
       "      <td>0.734545</td>\n",
       "      <td>0.691781</td>\n",
       "      <td>0.782946</td>\n",
       "      <td>01:18</td>\n",
       "    </tr>\n",
       "  </tbody>\n",
       "</table>"
      ],
      "text/plain": [
       "<IPython.core.display.HTML object>"
      ]
     },
     "metadata": {},
     "output_type": "display_data"
    }
   ],
   "source": [
    "learner_mel_spec.fit_one_cycle(4, lr_max=slice(7e-5,1e-4))"
   ]
  },
  {
   "cell_type": "code",
   "execution_count": null,
   "metadata": {
    "id": "TKQCbe1xsmkY"
   },
   "outputs": [],
   "source": []
  }
 ],
 "metadata": {
  "accelerator": "GPU",
  "colab": {
   "collapsed_sections": [],
   "name": "Copy of heart_beat_sound.ipynb",
   "provenance": []
  },
  "kernelspec": {
   "display_name": "Python 3",
   "language": "python",
   "name": "python3"
  },
  "language_info": {
   "codemirror_mode": {
    "name": "ipython",
    "version": 3
   },
   "file_extension": ".py",
   "mimetype": "text/x-python",
   "name": "python",
   "nbconvert_exporter": "python",
   "pygments_lexer": "ipython3",
   "version": "3.8.8"
  }
 },
 "nbformat": 4,
 "nbformat_minor": 1
}
